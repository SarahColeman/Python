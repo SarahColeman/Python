{
 "cells": [
  {
   "cell_type": "code",
   "execution_count": 5,
   "metadata": {},
   "outputs": [],
   "source": [
    "def comp_intr(value, rate):\n",
    "    while value >1000:\n",
    "        print(value)\n",
    "        value = value * rate\n",
    "       "
   ]
  },
  {
   "cell_type": "code",
   "execution_count": 6,
   "metadata": {},
   "outputs": [
    {
     "name": "stdout",
     "output_type": "stream",
     "text": [
      "2000\n",
      "1800.0\n",
      "1620.0\n",
      "1458.0\n",
      "1312.2\n",
      "1180.98\n",
      "1062.882\n"
     ]
    }
   ],
   "source": [
    "comp_intr(2000, 0.9)"
   ]
  },
  {
   "cell_type": "code",
   "execution_count": 45,
   "metadata": {},
   "outputs": [
    {
     "name": "stdout",
     "output_type": "stream",
     "text": [
      "0\n"
     ]
    }
   ],
   "source": [
    "def calculate(fNumber, function, sNumber):\n",
    "    function = str(input('Now, choose what you want to do with theses numbers:( a = +, b = -, c = /, d = *, and e = **):'))\n",
    "    if function == 'a':\n",
    "        print(fNumber+sNumber)\n",
    "    elif function == 'b':\n",
    "        print(fNumber - sNumber)\n",
    "    elif function == 'c':\n",
    "        print(fNumber/sNumber)\n",
    "    elif function == 'd':\n",
    "        print(fNumber*sNumber)\n",
    "    elif function == 'e':\n",
    "        print(fNumber**sNumber)\n",
    "    else:\n",
    "        print(0)\n",
    "\n",
    "calculate(fNumber,function, sNumber)\n"
   ]
  },
  {
   "cell_type": "code",
   "execution_count": 50,
   "metadata": {},
   "outputs": [
    {
     "name": "stdout",
     "output_type": "stream",
     "text": [
      "Choose two numbers\n",
      "2097152\n"
     ]
    }
   ],
   "source": [
    "msg = 'Choose two numbers'\n",
    "print(msg)\n",
    "fNumber = int(input('Choose your first number:'))\n",
    "sNumber = int(input('Choose your second number:'))\n",
    "\n",
    "calculate(fNumber, function, sNumber)"
   ]
  },
  {
   "cell_type": "code",
   "execution_count": 49,
   "metadata": {},
   "outputs": [
    {
     "name": "stdout",
     "output_type": "stream",
     "text": [
      "2\n"
     ]
    }
   ],
   "source": [
    "fNumber = 4\n",
    "sNumber = 2\n",
    "\n",
    "calculate(fNumber, function, sNumber)"
   ]
  },
  {
   "cell_type": "code",
   "execution_count": null,
   "metadata": {},
   "outputs": [],
   "source": [
    "def mark_grade(int(percentage)):\n",
    "    if (percentage >=80) and (percentage <=100):\n",
    "        print('A*')\n",
    "    elif (percentage >=70) and (percentage <80):\n",
    "        print ('A')\n",
    "    elif (percentage >=60) and (percentage <70):\n",
    "        print ('B')\n",
    "    elif (percentage >=50) and (percentage <60):\n",
    "        print ('C')\n",
    "    elif (percentage >=40) and (percentage <50):\n",
    "        print ('D')\n",
    "    elif (percentage >=0) and (percentage <40):\n",
    "        print ('E')\n",
    "    else:\n",
    "        print('You have entered an invalid value.')\n",
    "        return \n",
    "    "
   ]
  },
  {
   "cell_type": "code",
   "execution_count": 4,
   "metadata": {},
   "outputs": [
    {
     "name": "stdout",
     "output_type": "stream",
     "text": [
      "Number is smaller than 10!\n"
     ]
    }
   ],
   "source": [
    "number = int(input('Write a number:'))\n",
    "\n",
    "if number >10:\n",
    "    print('Number is greater than 10!')\n",
    "else:\n",
    "    print('Number is smaller than 10!')"
   ]
  },
  {
   "cell_type": "code",
   "execution_count": 1,
   "metadata": {},
   "outputs": [
    {
     "name": "stdout",
     "output_type": "stream",
     "text": [
      "4\n",
      "5\n",
      "6\n",
      "7\n",
      "8\n",
      "9\n"
     ]
    }
   ],
   "source": [
    "number = int(input('Write a number:'))\n",
    "\n",
    "while number <10:\n",
    "    print(number)\n",
    "    number += 1"
   ]
  },
  {
   "cell_type": "code",
   "execution_count": 5,
   "metadata": {},
   "outputs": [
    {
     "name": "stdout",
     "output_type": "stream",
     "text": [
      " !, what would you like to eat today?\n",
      "What else can we get you?\n"
     ]
    }
   ],
   "source": [
    "myName = input('What is your name?')\n",
    "\n",
    "print(myName, '!, what would you like to eat today?')\n",
    "\n",
    "order = input('Choose: a) burger b) pizza c) vegetarian:')\n",
    "\n",
    "if (order == 'a') or (order == 'b') or (order == 'c'):\n",
    "    print('Would you like to make that a meal?')\n",
    "else: \n",
    "    print('What else can we get you?')"
   ]
  }
 ],
 "metadata": {
  "interpreter": {
   "hash": "6f9f98afa309bf8fe25fdbc4500dd957be03820b0c28a58d20716fddd8e5ac20"
  },
  "kernelspec": {
   "display_name": "Python 3.10.0 64-bit",
   "name": "python3"
  },
  "language_info": {
   "codemirror_mode": {
    "name": "ipython",
    "version": 3
   },
   "file_extension": ".py",
   "mimetype": "text/x-python",
   "name": "python",
   "nbconvert_exporter": "python",
   "pygments_lexer": "ipython3",
   "version": "3.10.0"
  },
  "orig_nbformat": 4
 },
 "nbformat": 4,
 "nbformat_minor": 2
}
