{
 "cells": [
  {
   "cell_type": "code",
   "execution_count": 1,
   "metadata": {},
   "outputs": [
    {
     "name": "stdout",
     "output_type": "stream",
     "text": [
      "Well, 3 I am thinking of a number between 1 and 10.\n",
      "Wrong! Better luck next time\n"
     ]
    }
   ],
   "source": [
    "import random\n",
    "myName = input('What is your name?')\n",
    "number = random.randint(1, 10)\n",
    "print('Well,', myName, 'I am thinking of a number between 1 and 10.')\n",
    "guess=int(input('Take a guess:'))\n",
    "\n",
    "if guess == number:\n",
    "    print('Good job', myName, 'You guessed my number!')\n",
    "else: \n",
    "    print('Wrong! Better luck next time')"
   ]
  },
  {
   "cell_type": "code",
   "execution_count": 2,
   "metadata": {},
   "outputs": [
    {
     "name": "stdout",
     "output_type": "stream",
     "text": [
      "Hi! Sarah Type in your favourite number, and I will give you a joke!\n",
      "Why did the tomato blush? Because it saw the salad dressing.\n"
     ]
    }
   ],
   "source": [
    "myName = input('What is your name?')\n",
    "print('Hi!', myName, 'Type in your favourite number, and I will give you a joke!')\n",
    "favourite = int(input('Type a number between 1 and 100:'))\n",
    "\n",
    "if favourite <= 33:\n",
    "    print('Why did the tomato blush? Because it saw the salad dressing.')\n",
    "elif (favourite >33) and (favourite <= 66):\n",
    "    print('What do you call a guy who never farts in public? A private tutor.')\n",
    "elif (favourite >66) and (favourite <=100):\n",
    "    print('What happened when the butcher backed into his meat grinder? He got a little behind in his work.')\n",
    "else:\n",
    "    print('No joke for you then!')"
   ]
  },
  {
   "cell_type": "code",
   "execution_count": 3,
   "metadata": {},
   "outputs": [
    {
     "name": "stdout",
     "output_type": "stream",
     "text": [
      "Today, s I want you to tell me your favourite food.\n",
      "Thats great! So your favourite starter is f your favourite main is h# and for your dessert, you are having s !)\n"
     ]
    }
   ],
   "source": [
    "myName = input('Hi! What is your name?')\n",
    "print('Today,', myName, 'I want you to tell me your favourite food.')\n",
    "starter=str(input('What is your favourite starter?'))\n",
    "main=str(input('And, your favourite main course?'))\n",
    "dessert=str(input('Finally, your favourite dessert?'))\n",
    "print('That''s great! So your favourite starter is', starter,'your favourite main is', main, 'and for your dessert, you are having', dessert, '!)')\n"
   ]
  },
  {
   "cell_type": "code",
   "execution_count": 4,
   "metadata": {},
   "outputs": [
    {
     "name": "stdout",
     "output_type": "stream",
     "text": [
      "2000\n",
      "1800.0\n",
      "1620.0\n",
      "1458.0\n",
      "1312.2\n",
      "1180.98\n",
      "1062.882\n"
     ]
    }
   ],
   "source": [
    "value = 2000\n",
    "\n",
    "while value >1000:\n",
    "    print(value)\n",
    "    value=value*0.9\n",
    "\n"
   ]
  },
  {
   "cell_type": "code",
   "execution_count": 5,
   "metadata": {},
   "outputs": [
    {
     "name": "stdout",
     "output_type": "stream",
     "text": [
      "Choose two numbers\n",
      "10\n"
     ]
    }
   ],
   "source": [
    "msg = 'Choose two numbers'\n",
    "print(msg)\n",
    "fNumber = int(input('Choose your first number:'))\n",
    "sNumber = int(input('Choose your second number:'))\n",
    "\n",
    "function = str(input('Now, choose what you want to do with theses numbers:( a = +, b = -, c = /, d = *, and e = **):'))\n",
    "\n",
    "if function == 'a':\n",
    "    print(fNumber+sNumber)\n",
    "elif function == 'b':\n",
    "    print(fNumber - sNumber)\n",
    "elif function == 'c':\n",
    "    print(fNumber/sNumber)\n",
    "elif function == 'd':\n",
    "    print(fNumber*sNumber)\n",
    "elif function == 'e':\n",
    "    print(fNumber**sNumber)\n",
    "else:\n",
    "    print(0)\n"
   ]
  }
 ],
 "metadata": {
  "interpreter": {
   "hash": "6f9f98afa309bf8fe25fdbc4500dd957be03820b0c28a58d20716fddd8e5ac20"
  },
  "kernelspec": {
   "display_name": "Python 3.10.0 64-bit",
   "language": "python",
   "name": "python3"
  },
  "language_info": {
   "codemirror_mode": {
    "name": "ipython",
    "version": 3
   },
   "file_extension": ".py",
   "mimetype": "text/x-python",
   "name": "python",
   "nbconvert_exporter": "python",
   "pygments_lexer": "ipython3",
   "version": "3.10.0"
  },
  "orig_nbformat": 4
 },
 "nbformat": 4,
 "nbformat_minor": 2
}
