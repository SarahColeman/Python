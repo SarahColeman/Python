{
 "cells": [
  {
   "cell_type": "code",
   "execution_count": 51,
   "metadata": {},
   "outputs": [
    {
     "name": "stdout",
     "output_type": "stream",
     "text": [
      "[3, 45, 83, 21]\n"
     ]
    }
   ],
   "source": [
    "#String test\n",
    "num = [3, 45, 83, 21]\n",
    "print(num)"
   ]
  },
  {
   "cell_type": "code",
   "execution_count": 49,
   "metadata": {},
   "outputs": [
    {
     "name": "stdout",
     "output_type": "stream",
     "text": [
      "['w', 'r', 'a']\n"
     ]
    }
   ],
   "source": [
    "#String test\n",
    "letters = ['w', 'r', 'a']\n",
    "print(letters)"
   ]
  },
  {
   "cell_type": "code",
   "execution_count": 55,
   "metadata": {},
   "outputs": [],
   "source": [
    "#Task 1 Write a program that allows you to enter 4 numbers \n",
    "#Can you only save one argument per write request? Can you save integers here? \n",
    "numbers = open('numbers.txt', 'w')\n",
    "numbers.write('3, 45, 83, 21')\n",
    "numbers.close()\n",
    "\n"
   ]
  },
  {
   "cell_type": "code",
   "execution_count": 39,
   "metadata": {},
   "outputs": [],
   "source": [
    "letters = open(\"letters.txt\", \"w\")\n",
    "letters.write('w, r, a')\n",
    "letters.close()"
   ]
  },
  {
   "cell_type": "code",
   "execution_count": 11,
   "metadata": {},
   "outputs": [],
   "source": [
    "#Task 2 Write a program to ask a student for their percentage mark and convert this to a grade. Use function for conversion.\n",
    "#Function \n",
    "def mark_grade(percentage):\n",
    "    if (percentage >=80) and (percentage <=100):\n",
    "        return 'A*'\n",
    "    elif (percentage >=70) and (percentage <80):\n",
    "        return 'A'\n",
    "    elif (percentage >=60) and (percentage <70):\n",
    "        return'B'\n",
    "    elif (percentage >=50) and (percentage <60):\n",
    "        return 'C'\n",
    "    elif (percentage >=40) and (percentage <50):\n",
    "        return 'D'\n",
    "    elif (percentage >=0) and (percentage <40):\n",
    "        return'E'\n",
    "    else:\n",
    "        return 'Invalid mark'\n",
    "       \n",
    "\n",
    "   "
   ]
  },
  {
   "cell_type": "code",
   "execution_count": 12,
   "metadata": {},
   "outputs": [
    {
     "name": "stdout",
     "output_type": "stream",
     "text": [
      "Your percentage mark is 65 % and your grade is B\n"
     ]
    }
   ],
   "source": [
    "#Task 2 Write a program to ask a student for their percentage mark and convert this to a grade. Use function for conversion.\n",
    "percentage = int(input('Enter your precentage mark:'))\n",
    "print('Your percentage mark is', percentage,'% and your grade is', mark_grade(percentage))\n",
    "\n",
    "\n",
    "\n",
    "\n",
    "\n",
    "\n",
    "    "
   ]
  },
  {
   "cell_type": "code",
   "execution_count": 1,
   "metadata": {},
   "outputs": [
    {
     "ename": "NameError",
     "evalue": "name 'percentage' is not defined",
     "output_type": "error",
     "traceback": [
      "\u001b[1;31m---------------------------------------------------------------------------\u001b[0m",
      "\u001b[1;31mNameError\u001b[0m                                 Traceback (most recent call last)",
      "\u001b[1;32m~\\AppData\\Local\\Temp/ipykernel_8168/3177633767.py\u001b[0m in \u001b[0;36m<module>\u001b[1;34m\u001b[0m\n\u001b[0;32m      4\u001b[0m    \u001b[0mpercentage\u001b[0m \u001b[1;33m=\u001b[0m \u001b[1;33m(\u001b[0m\u001b[0mpercentage\u001b[0m \u001b[1;33m>=\u001b[0m\u001b[1;36m80\u001b[0m\u001b[1;33m)\u001b[0m \u001b[1;32mand\u001b[0m \u001b[1;33m(\u001b[0m\u001b[0mpercentage\u001b[0m \u001b[1;33m<=\u001b[0m\u001b[1;36m100\u001b[0m\u001b[1;33m)\u001b[0m\u001b[1;33m\u001b[0m\u001b[1;33m\u001b[0m\u001b[0m\n\u001b[0;32m      5\u001b[0m \u001b[1;32mif\u001b[0m \u001b[0mtarget\u001b[0m \u001b[1;33m==\u001b[0m \u001b[1;34m'A'\u001b[0m\u001b[1;33m:\u001b[0m\u001b[1;33m\u001b[0m\u001b[1;33m\u001b[0m\u001b[0m\n\u001b[1;32m----> 6\u001b[1;33m     \u001b[0mpercentage\u001b[0m \u001b[1;33m=\u001b[0m \u001b[1;33m(\u001b[0m\u001b[0mpercentage\u001b[0m \u001b[1;33m>=\u001b[0m\u001b[1;36m70\u001b[0m\u001b[1;33m)\u001b[0m \u001b[1;32mand\u001b[0m \u001b[1;33m(\u001b[0m\u001b[0mpercentage\u001b[0m \u001b[1;33m<\u001b[0m\u001b[1;36m80\u001b[0m\u001b[1;33m)\u001b[0m\u001b[1;33m\u001b[0m\u001b[1;33m\u001b[0m\u001b[0m\n\u001b[0m\u001b[0;32m      7\u001b[0m \u001b[1;32melif\u001b[0m \u001b[0mtarget\u001b[0m \u001b[1;33m==\u001b[0m \u001b[1;34m'B'\u001b[0m\u001b[1;33m:\u001b[0m\u001b[1;33m\u001b[0m\u001b[1;33m\u001b[0m\u001b[0m\n\u001b[0;32m      8\u001b[0m     \u001b[0mpercentage\u001b[0m \u001b[1;33m=\u001b[0m \u001b[1;33m(\u001b[0m\u001b[0mpercentage\u001b[0m \u001b[1;33m>=\u001b[0m\u001b[1;36m60\u001b[0m\u001b[1;33m)\u001b[0m \u001b[1;32mand\u001b[0m \u001b[1;33m(\u001b[0m\u001b[0mpercentage\u001b[0m \u001b[1;33m<\u001b[0m\u001b[1;36m70\u001b[0m\u001b[1;33m)\u001b[0m\u001b[1;33m\u001b[0m\u001b[1;33m\u001b[0m\u001b[0m\n",
      "\u001b[1;31mNameError\u001b[0m: name 'percentage' is not defined"
     ]
    }
   ],
   "source": [
    "#Ask the user for their target grade and print this with their \n",
    "#I have left some of my working for this question but I have been unable to complete the extension task. \n",
    "# I found that I had an issue with having the actual grade as a string and then not being able to compare this with the \n",
    "#target grade. For example, I wanted to do-- if target > mark_grade: print(Your mark is higher than...) but of course \n",
    "#they are both strings so I couldn't think of a way to compare them. Below is some of my ideas...\n",
    "target = input('What is your target grade(capitals only):')\n",
    "if target == 'A*':\n",
    "   percentage = (percentage >=80) and (percentage <=100)\n",
    "if target == 'A':\n",
    "    percentage = (percentage >=70) and (percentage <80)\n",
    "elif target == 'B':\n",
    "    percentage = (percentage >=60) and (percentage <70)\n",
    "elif target == 'C':\n",
    "    percentage = (percentage >=50) and (percentage <60)\n",
    "elif target == 'D':\n",
    "    percentage = (percentage >=40) and (percentage <50)\n",
    "elif target == 'E':\n",
    "    percentage = (percentage >=0) and (percentage <40)\n",
    "else: \n",
    "     ''\n",
    "\n",
    "percentage = input('Type in your current percentage mark:')\n",
    "print(mark_grade(percentage))\n",
    "\n"
   ]
  },
  {
   "cell_type": "code",
   "execution_count": 82,
   "metadata": {},
   "outputs": [
    {
     "name": "stdout",
     "output_type": "stream",
     "text": [
      "Your current grade is A* Your target is B\n",
      "Your current grade is below your target.\n"
     ]
    }
   ],
   "source": [
    "#Extension to Task 2\n",
    "percentage = int(input('What is your current percentage mark?:'))\n",
    "Target = input('What is you target grade?:')\n",
    "print('Your current grade is', mark_grade(percentage), 'Your target is', Target)\n",
    "if mark_grade(percentage) >= Target:\n",
    "    print('Congratulations! Your current grade is above your target!')\n",
    "if mark_grade(percentage) == Target:\n",
    "    print('You are currently at your target grade.')\n",
    "if mark_grade(percentage) <= Target:\n",
    "    print ('Your current grade is below your target.')\n",
    "else:\n",
    "    print('')\n",
    "\n"
   ]
  },
  {
   "cell_type": "code",
   "execution_count": 101,
   "metadata": {},
   "outputs": [],
   "source": [
    "if target == 'A':\n",
    "    (percentage >=70) and (percentage <80)\n",
    "elif target == 'B':\n",
    "    (percentage >=60) and (percentage <70)\n",
    "elif target == 'C':\n",
    "    (percentage >=50) and (percentage <60)\n",
    "elif target == 'D':\n",
    "    (percentage >=40) and (percentage <50)\n",
    "elif target == 'E':\n",
    "    (percentage >=0) and (percentage <40)\n",
    "else: \n",
    "    ''\n",
    "\n"
   ]
  },
  {
   "cell_type": "code",
   "execution_count": 1,
   "metadata": {},
   "outputs": [
    {
     "name": "stdout",
     "output_type": "stream",
     "text": [
      "Requirement already satisfied: numpy in c:\\users\\scare\\appdata\\local\\programs\\python\\python310\\lib\\site-packages (1.21.4)\n",
      "Note: you may need to restart the kernel to use updated packages.\n"
     ]
    },
    {
     "name": "stderr",
     "output_type": "stream",
     "text": [
      "WARNING: You are using pip version 21.2.3; however, version 21.3.1 is available.\n",
      "You should consider upgrading via the 'C:\\Users\\scare\\AppData\\Local\\Programs\\Python\\Python310\\python.exe -m pip install --upgrade pip' command.\n"
     ]
    }
   ],
   "source": [
    "pip install numpy\n"
   ]
  },
  {
   "cell_type": "code",
   "execution_count": 1,
   "metadata": {},
   "outputs": [
    {
     "name": "stdout",
     "output_type": "stream",
     "text": [
      "[1 2 3 4 5 6 7]\n"
     ]
    }
   ],
   "source": [
    "import numpy as np\n",
    "array = np.array([1, 2, 3, 4, 5, 6, 7])\n",
    "print(array)"
   ]
  },
  {
   "cell_type": "code",
   "execution_count": 6,
   "metadata": {},
   "outputs": [
    {
     "name": "stdout",
     "output_type": "stream",
     "text": [
      "[[0.14237879 0.30682085 0.45962855]\n",
      " [0.94254091 0.56118709 0.67062665]]\n"
     ]
    }
   ],
   "source": [
    "import numpy as np \n",
    "rando=np.random.rand(2,3)\n",
    "print(rando)"
   ]
  },
  {
   "cell_type": "code",
   "execution_count": 23,
   "metadata": {},
   "outputs": [
    {
     "name": "stdout",
     "output_type": "stream",
     "text": [
      "[[ 84  90  96]\n",
      " [201 216 231]\n",
      " [318 342 366]]\n"
     ]
    }
   ],
   "source": [
    "import numpy as np\n",
    "a = np.arange (1,10).reshape (3,3) \n",
    "b = np.arange (10,19).reshape (3,3) \n",
    "c = np.dot(a, b)\n",
    "print(c)"
   ]
  },
  {
   "cell_type": "code",
   "execution_count": 26,
   "metadata": {},
   "outputs": [
    {
     "name": "stdout",
     "output_type": "stream",
     "text": [
      "[1 2 3 4 5 6 7 8 9]\n"
     ]
    }
   ],
   "source": [
    "#Task 1: Create a 1D array of numbers from 0 to 9\n",
    "import numpy as np\n",
    "oneD_array = np.array([1, 2, 3, 4, 5, 6, 7, 8, 9])\n",
    "print(oneD_array)"
   ]
  },
  {
   "cell_type": "code",
   "execution_count": 37,
   "metadata": {},
   "outputs": [
    {
     "name": "stdout",
     "output_type": "stream",
     "text": [
      "[[ True  True  True]\n",
      " [ True  True  True]\n",
      " [ True  True  True]]\n"
     ]
    }
   ],
   "source": [
    "#Task 2: Create a 3×3 NumPy array of all Boolean value Trues\n",
    "import numpy as np\n",
    "bool_ones = np.ones((3, 3), dtype=bool) \n",
    "print(bool_ones)"
   ]
  },
  {
   "cell_type": "code",
   "execution_count": 38,
   "metadata": {},
   "outputs": [
    {
     "name": "stdout",
     "output_type": "stream",
     "text": [
      "[1 3 5 7 9]\n"
     ]
    }
   ],
   "source": [
    "#Task 3: Extract all odd numbers from array of 1-10\n",
    "import numpy as np\n",
    "odd = np.arange(1, 11, 2)\n",
    "print(odd)"
   ]
  },
  {
   "cell_type": "code",
   "execution_count": 43,
   "metadata": {},
   "outputs": [
    {
     "name": "stdout",
     "output_type": "stream",
     "text": [
      "[-1  2 -1  4 -1  6 -1 -1 10]\n"
     ]
    }
   ],
   "source": [
    "# Task 4: Replace all odd numbers in an array of 1-10 with the value -1\n",
    "import numpy as np\n",
    "minus1 = np.array([1, 2, 3, 4, 5, 6, 7, 9, 10])\n",
    "minus1[minus1%2 == 1] = -1\n",
    "print(minus1)\n",
    "\n"
   ]
  },
  {
   "cell_type": "code",
   "execution_count": 59,
   "metadata": {},
   "outputs": [
    {
     "name": "stdout",
     "output_type": "stream",
     "text": [
      "[[ 1  2  3]\n",
      " [ 4  5  6]\n",
      " [ 7  8  9]\n",
      " [10 11 12]]\n"
     ]
    }
   ],
   "source": [
    "# Task 5:  Convert a 1D array to a 2D array with 2 rows\n",
    "import numpy as np\n",
    "convert1 = np.array([1, 2, 3, 4, 5, 6, 7, 8, 9, 10, 11, 12])\n",
    "convert2 = convert1.reshape(4, 3)\n",
    "print(convert2)\n"
   ]
  },
  {
   "cell_type": "code",
   "execution_count": 72,
   "metadata": {},
   "outputs": [
    {
     "name": "stdout",
     "output_type": "stream",
     "text": [
      "[[1 2 3]\n",
      " [4 5 6]\n",
      " [7 8 9]]\n",
      "[[11 12 13]\n",
      " [14 15 16]\n",
      " [17 18 19]]\n",
      "[[ 90  96 102]\n",
      " [216 231 246]\n",
      " [342 366 390]]\n",
      "2079\n"
     ]
    }
   ],
   "source": [
    "# Task 6: Create two arrays a and b, stack these two arrays vertically use the np.dot and np.sum to calculate totals\n",
    "array_1 = np.arange(1, 10).reshape (3,3)\n",
    "array_2 = np.arange(11, 20).reshape (3,3)\n",
    "print(array_1)\n",
    "print(array_2)\n",
    "dot = np.dot(array_1, array_2)\n",
    "print(dot)\n",
    "sum=np.sum(dot)\n",
    "print(sum)\n"
   ]
  },
  {
   "cell_type": "code",
   "execution_count": 77,
   "metadata": {},
   "outputs": [
    {
     "name": "stdout",
     "output_type": "stream",
     "text": [
      "[1 2 3]\n"
     ]
    },
    {
     "data": {
      "text/plain": [
       "array([1, 1, 1, 2, 2, 2, 3, 3, 3, 1, 2, 3, 1, 2, 3, 1, 2, 3])"
      ]
     },
     "execution_count": 77,
     "metadata": {},
     "output_type": "execute_result"
    }
   ],
   "source": [
    "# Extension: Create the following pattern without hardcoding. Use only NumPy functions.\n",
    "code = np.array([1, 2, 3])\n",
    "print(code)\n",
    "np.r_[np.repeat(code, 3), np.tile(code, 3)]"
   ]
  },
  {
   "cell_type": "code",
   "execution_count": 84,
   "metadata": {},
   "outputs": [
    {
     "data": {
      "text/plain": [
       "array([1, 2, 3, 4])"
      ]
     },
     "execution_count": 84,
     "metadata": {},
     "output_type": "execute_result"
    }
   ],
   "source": [
    "#Extension: In two arrays a ( 1,2,3,4,5) and b ( 5,6,7,8,9) – remove all repeating items present in array b.\n",
    "a = np.array([1, 2, 3, 4, 5])\n",
    "b = np.array([5, 6, 7, 8, 9])\n",
    "np.setdiff1d(a,b)\n",
    "\n",
    "\n",
    "\n"
   ]
  },
  {
   "cell_type": "code",
   "execution_count": 92,
   "metadata": {},
   "outputs": [
    {
     "name": "stdout",
     "output_type": "stream",
     "text": [
      "(array([2, 3, 4], dtype=int64),) (array([2, 3, 4], dtype=int64),)\n"
     ]
    }
   ],
   "source": [
    "#Extension: Get all items between 3 and 7 from a and b and sum them together.\n",
    "a1 =np.where((a>=3) & (a<=7))\n",
    "b1 = np.where((a>=3) & (a<=7))\n",
    "print(a1, b1)"
   ]
  }
 ],
 "metadata": {
  "interpreter": {
   "hash": "6f9f98afa309bf8fe25fdbc4500dd957be03820b0c28a58d20716fddd8e5ac20"
  },
  "kernelspec": {
   "display_name": "Python 3.10.0 64-bit",
   "language": "python",
   "name": "python3"
  },
  "language_info": {
   "codemirror_mode": {
    "name": "ipython",
    "version": 3
   },
   "file_extension": ".py",
   "mimetype": "text/x-python",
   "name": "python",
   "nbconvert_exporter": "python",
   "pygments_lexer": "ipython3",
   "version": "3.10.0"
  },
  "orig_nbformat": 4
 },
 "nbformat": 4,
 "nbformat_minor": 2
}
